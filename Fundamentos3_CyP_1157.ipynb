{
  "nbformat": 4,
  "nbformat_minor": 0,
  "metadata": {
    "colab": {
      "name": "Fundamentos3_CyP_1157.ipynb",
      "provenance": [],
      "collapsed_sections": [],
      "authorship_tag": "ABX9TyPwIo8pKDiaX7sMuyKnsO7T",
      "include_colab_link": true
    },
    "kernelspec": {
      "name": "python3",
      "display_name": "Python 3"
    },
    "language_info": {
      "name": "python"
    }
  },
  "cells": [
    {
      "cell_type": "markdown",
      "metadata": {
        "id": "view-in-github",
        "colab_type": "text"
      },
      "source": [
        "<a href=\"https://colab.research.google.com/github/Karla-Valentin/Clase-30-11-21-CyP/blob/main/Fundamentos3_CyP_1157.ipynb\" target=\"_parent\"><img src=\"https://colab.research.google.com/assets/colab-badge.svg\" alt=\"Open In Colab\"/></a>"
      ]
    },
    {
      "cell_type": "markdown",
      "metadata": {
        "id": "c4W2Qa8TF_90"
      },
      "source": [
        "3. Repetición: \n",
        "\n",
        "Este tipo de estructura nos permite automatizar la ejecución repetitiva de \n",
        "código mientas ciertas condiciones s cumplan, tenemos 3 variantes de esta\n",
        " estructura en todos los lenguajes de programación:\n",
        "\n",
        "    - Este tipo de estructura nos permite automatizar la ejecución repetitiva de código mienttras ciertas condiciones se cumplam, tenemos 3 variantes de esta estructura en todos los lenguajes de programación. \n",
        "    - Desde.....hasta (estructura for)\n",
        "    - haz mientras (estructura while)  \n",
        "    - haz y luego validez mientras (estructura Do-while)      \n",
        "\n",
        "# FOR  CON Python\n",
        "```   \n",
        "for j in range(10):    \n",
        "    print(f\"Hola {j}\")\n",
        "```\n",
        "# FOR Con lenguaje C y Java\n",
        "```\n",
        "for( int j=0 ; j=j+1 ){\n",
        "    printf(\"Hola %i /n\", j );\n",
        "}   \n",
        "```\n",
        "En todos los lenguajes de preohramación existe un tipo especial de for, conocido como for-each \n",
        "\n",
        "# For each en Python\n",
        "```\n",
        "for color in colores:     \n",
        "    print(f\"Este es el color {color}\")\n",
        "    "
      ]
    },
    {
      "cell_type": "code",
      "metadata": {
        "colab": {
          "base_uri": "https://localhost:8080/"
        },
        "id": "xSt_YD6jHr1h",
        "outputId": "41991be6-542e-4e5a-bb98-6ce544503e62"
      },
      "source": [
        "# Función range \n",
        "# range(<INICIO>,<STOP>,<INCREMENTO>)\n",
        "x = range(0,10,2)\n",
        "print(x)\n",
        "\n",
        "for j in range(10):\n",
        "    print(f\"Hola {j}\")\n"
      ],
      "execution_count": null,
      "outputs": [
        {
          "output_type": "stream",
          "name": "stdout",
          "text": [
            "range(0, 10, 2)\n",
            "Hola 0\n",
            "Hola 1\n",
            "Hola 2\n",
            "Hola 3\n",
            "Hola 4\n",
            "Hola 5\n",
            "Hola 6\n",
            "Hola 7\n",
            "Hola 8\n",
            "Hola 9\n"
          ]
        }
      ]
    },
    {
      "cell_type": "code",
      "metadata": {
        "colab": {
          "base_uri": "https://localhost:8080/"
        },
        "id": "cbZCNEPPJujj",
        "outputId": "8680904e-e3fd-452a-bce7-5ff2f8f3c91d"
      },
      "source": [
        "for j in range(0,10,2):\n",
        "    print(f\"Hola {j}\")\n",
        "print(\"-----FRUTAS-----\")    \n",
        "\n",
        "frutas = [\"uva\", \"aguacate\", \"pera\", \"manzana\", \"sandia\"] \n",
        "\n",
        "for index in range(5):\n",
        "    print(frutas[index])\n"
      ],
      "execution_count": null,
      "outputs": [
        {
          "output_type": "stream",
          "name": "stdout",
          "text": [
            "Hola 0\n",
            "Hola 2\n",
            "Hola 4\n",
            "Hola 6\n",
            "Hola 8\n",
            "-----FRUTAS-----\n",
            "uva\n",
            "aguacate\n",
            "pera\n",
            "manzana\n",
            "sandia\n"
          ]
        }
      ]
    },
    {
      "cell_type": "code",
      "metadata": {
        "colab": {
          "base_uri": "https://localhost:8080/"
        },
        "id": "H72967NMLZ0q",
        "outputId": "abed309a-bd16-4825-dd07-f4e94b347e1b"
      },
      "source": [
        "for i in range(5):\n",
        "    print(\"+++++\")\n",
        "    "
      ],
      "execution_count": null,
      "outputs": [
        {
          "output_type": "stream",
          "name": "stdout",
          "text": [
            "+++++\n",
            "+++++\n",
            "+++++\n",
            "+++++\n",
            "+++++\n"
          ]
        }
      ]
    },
    {
      "cell_type": "markdown",
      "metadata": {
        "id": "Ywcm4IPoLrD9"
      },
      "source": [
        "Tarea moral: triangulo usando estructura for de menor a mayor \n",
        "\n",
        "\n",
        "+  +\n",
        "++++\n",
        "+++++\n",
        "++++++"
      ]
    },
    {
      "cell_type": "code",
      "metadata": {
        "colab": {
          "base_uri": "https://localhost:8080/"
        },
        "id": "BKVZahDBL-r3",
        "outputId": "9c883a29-da1f-41f5-f37b-2f0b5e071d40"
      },
      "source": [
        "altura = int(input(\"Altura del triángulo: \"))\n",
        "\n",
        "for i in range(1, altura + 1):\n",
        "    for j in range(i):\n",
        "        print(\"+\", end=\"\" )\n",
        "    print()\n"
      ],
      "execution_count": null,
      "outputs": [
        {
          "output_type": "stream",
          "name": "stdout",
          "text": [
            "Altura del triángulo: 4\n",
            "+\n",
            "++\n",
            "+++\n",
            "++++\n"
          ]
        }
      ]
    },
    {
      "cell_type": "code",
      "metadata": {
        "colab": {
          "base_uri": "https://localhost:8080/"
        },
        "id": "B1C4iyGRLzHD",
        "outputId": "8349458c-337b-4ca4-c59a-de73b5b2fa1c"
      },
      "source": [
        "for x in range(1, 20, 1):\n",
        "    print(x)\n",
        "print(\"---Fin del programa---\")    \n",
        "\n",
        "for x in range(19,0,-1):\n",
        "    print(x)\n",
        "print(\"---Fin del programa---\")    "
      ],
      "execution_count": null,
      "outputs": [
        {
          "output_type": "stream",
          "name": "stdout",
          "text": [
            "1\n",
            "2\n",
            "3\n",
            "4\n",
            "5\n",
            "6\n",
            "7\n",
            "8\n",
            "9\n",
            "10\n",
            "11\n",
            "12\n",
            "13\n",
            "14\n",
            "15\n",
            "16\n",
            "17\n",
            "18\n",
            "19\n",
            "---Fin del programa---\n",
            "19\n",
            "18\n",
            "17\n",
            "16\n",
            "15\n",
            "14\n",
            "13\n",
            "12\n",
            "11\n",
            "10\n",
            "9\n",
            "8\n",
            "7\n",
            "6\n",
            "5\n",
            "4\n",
            "3\n",
            "2\n",
            "1\n",
            "---Fin del programa---\n"
          ]
        }
      ]
    },
    {
      "cell_type": "code",
      "metadata": {
        "colab": {
          "base_uri": "https://localhost:8080/"
        },
        "id": "-HlnZqZ3NqN-",
        "outputId": "5397e658-757c-4708-f3c7-217a24a43690"
      },
      "source": [
        "#Ejemplo 3.3 pág. 113\n",
        "\n",
        "CUECER = 0\n",
        "NUM = 0 \n",
        "N= int(input(\" un valor númerico mayor que 1:\"))\n",
        "for I in range(1, N+1 ,1): #N+1 es para incluir por ejemplo del 1 al 10, sin saltarse el 10\n",
        "    N = int(input(\"Un valor númerico:\"))\n",
        "    if N == 0:\n",
        "        CUECER +=1\n",
        "\n",
        "print(\"CUECER=\", CUECER)\n",
        "             \n",
        "\n"
      ],
      "execution_count": null,
      "outputs": [
        {
          "output_type": "stream",
          "name": "stdout",
          "text": [
            " un valor númerico mayor que 1:4\n",
            "Un valor númerico mayor que 1:0\n",
            "Un valor númerico mayor que 1:0\n",
            "Un valor númerico mayor que 1:2\n",
            "Un valor númerico mayor que 1:2\n",
            "CUECER= 2\n"
          ]
        }
      ]
    },
    {
      "cell_type": "code",
      "metadata": {
        "colab": {
          "base_uri": "https://localhost:8080/"
        },
        "id": "VajXAfIZeO3Z",
        "outputId": "4793b036-98c4-4be4-9ed0-3f232bd0b3c2"
      },
      "source": [
        "CUECER = 0\n",
        "NUM = 0\n",
        "N = int(input(\"Un valor númerico mayor que 1:\"))\n",
        "I = 1\n",
        "for I in range(1<=N):\n",
        "    NUM = int(input(\"Un valor númerico:\"))\n",
        "    if NUM ==0:\n",
        "        CUECER +=1\n",
        "        I +=1\n",
        "print(\"CUECER=\",CUECER)        "
      ],
      "execution_count": null,
      "outputs": [
        {
          "output_type": "stream",
          "name": "stdout",
          "text": [
            "Un valor númerico mayor que 1:9\n",
            "Un valor númerico:5\n",
            "CUECER= 0\n"
          ]
        }
      ]
    },
    {
      "cell_type": "markdown",
      "metadata": {
        "id": "VwSYqMpHQwz3"
      },
      "source": [
        "Programa para que imprima la tabla del 7\n",
        "\n",
        "\n",
        "\n"
      ]
    },
    {
      "cell_type": "code",
      "metadata": {
        "colab": {
          "base_uri": "https://localhost:8080/"
        },
        "id": "6TqcJ6phQtlI",
        "outputId": "2823a1d0-863f-4ff0-ec8a-b3f3546d8ac6"
      },
      "source": [
        "for i in range(1, 11):\n",
        " print(f\"7 * {i} = \", 7*i)"
      ],
      "execution_count": null,
      "outputs": [
        {
          "output_type": "stream",
          "name": "stdout",
          "text": [
            "7 * 1 =  7\n",
            "7 * 2 =  14\n",
            "7 * 3 =  21\n",
            "7 * 4 =  28\n",
            "7 * 5 =  35\n",
            "7 * 6 =  42\n",
            "7 * 7 =  49\n",
            "7 * 8 =  56\n",
            "7 * 9 =  63\n",
            "7 * 10 =  70\n"
          ]
        }
      ]
    },
    {
      "cell_type": "code",
      "metadata": {
        "colab": {
          "base_uri": "https://localhost:8080/"
        },
        "id": "-yCR8bL_Rlgy",
        "outputId": "60b7eb62-4396-4b10-e0d0-12e9576d519b"
      },
      "source": [
        "# Otra solución\n",
        "n=7\n",
        "for i in range(1,11,1):\n",
        "    x=n*i\n",
        "    print(f\"{n} x {i} = {x}\")"
      ],
      "execution_count": null,
      "outputs": [
        {
          "output_type": "stream",
          "name": "stdout",
          "text": [
            "7 x 1 = 7\n",
            "7 x 2 = 14\n",
            "7 x 3 = 21\n",
            "7 x 4 = 28\n",
            "7 x 5 = 35\n",
            "7 x 6 = 42\n",
            "7 x 7 = 49\n",
            "7 x 8 = 56\n",
            "7 x 9 = 63\n",
            "7 x 10 = 70\n"
          ]
        }
      ]
    },
    {
      "cell_type": "markdown",
      "metadata": {
        "id": "7JUikEj7R3tI"
      },
      "source": [
        "El programa mande un mensaje: Dame un numero entre 1 y 5\n",
        "luego preguntar: Dame un numero entre 2 y 10\n",
        "y que imprima despues "
      ]
    },
    {
      "cell_type": "code",
      "metadata": {
        "colab": {
          "base_uri": "https://localhost:8080/"
        },
        "id": "B6adVAMfSqYq",
        "outputId": "9876e1e9-62cb-4562-bddd-74c88384ddb2"
      },
      "source": [
        "N1 = int(input(\"Dame un número del 1 al 5:\"))\n",
        "if N1 > 0 and N1 <= 5:\n",
        "    N2 = int(input(f\"Dame un número entre {N1} y 10:\"))\n",
        "    if N2 >= N1 and N2 <= 10:\n",
        "        for i in range(N1, N2+1): #N+2 para que se incluya completo y no se haga el stop.\n",
        "            for j in range(0,11):\n",
        "                print(f\"{i}x{j}=\", i*j)\n",
        "            print(\"--------\")\n",
        "else:\n",
        "    print(\"Valor fuera de rango 1-5\")            \n",
        "  "
      ],
      "execution_count": null,
      "outputs": [
        {
          "output_type": "stream",
          "name": "stdout",
          "text": [
            "Dame un número del 1 al 5:5\n",
            "Dame un número entre 5 y 10:8\n",
            "5x0= 0\n",
            "5x1= 5\n",
            "5x2= 10\n",
            "5x3= 15\n",
            "5x4= 20\n",
            "5x5= 25\n",
            "5x6= 30\n",
            "5x7= 35\n",
            "5x8= 40\n",
            "5x9= 45\n",
            "5x10= 50\n",
            "--------\n",
            "6x0= 0\n",
            "6x1= 6\n",
            "6x2= 12\n",
            "6x3= 18\n",
            "6x4= 24\n",
            "6x5= 30\n",
            "6x6= 36\n",
            "6x7= 42\n",
            "6x8= 48\n",
            "6x9= 54\n",
            "6x10= 60\n",
            "--------\n",
            "7x0= 0\n",
            "7x1= 7\n",
            "7x2= 14\n",
            "7x3= 21\n",
            "7x4= 28\n",
            "7x5= 35\n",
            "7x6= 42\n",
            "7x7= 49\n",
            "7x8= 56\n",
            "7x9= 63\n",
            "7x10= 70\n",
            "--------\n",
            "8x0= 0\n",
            "8x1= 8\n",
            "8x2= 16\n",
            "8x3= 24\n",
            "8x4= 32\n",
            "8x5= 40\n",
            "8x6= 48\n",
            "8x7= 56\n",
            "8x8= 64\n",
            "8x9= 72\n",
            "8x10= 80\n",
            "--------\n"
          ]
        }
      ]
    },
    {
      "cell_type": "code",
      "metadata": {
        "colab": {
          "base_uri": "https://localhost:8080/"
        },
        "id": "-ELem7QqWpju",
        "outputId": "80f59b1f-433b-46e4-a66a-198ee4ad3d68"
      },
      "source": [
        "# Generadores de listas \n",
        "numeros = [0,0,0,0,0]\n",
        "print(numeros)\n",
        "\n",
        "# es más fácil por si quiero imprimirlo más veces\n",
        "numeros = [ 0 for x in range(5)] \n",
        "print(numeros)\n",
        "\n",
        "#Emplenado la variable x para el valor inicial\n",
        "numeros = [ x for x in range(5)] \n",
        "print(numeros)\n",
        "\n",
        "# [10,20,30,40,50,60,70,80,90,100]\n",
        "numeros = [ x for x in range(10,101,10) ]\n",
        "print(numeros)\n",
        "#Otra solución\n",
        "numeros = [ x*10 for x in range(1,11)] \n",
        "print(numeros)\n"
      ],
      "execution_count": null,
      "outputs": [
        {
          "output_type": "stream",
          "name": "stdout",
          "text": [
            "[0, 0, 0, 0, 0]\n",
            "[0, 0, 0, 0, 0]\n",
            "[0, 1, 2, 3, 4]\n",
            "[10, 20, 30, 40, 50, 60, 70, 80, 90, 100]\n",
            "[10, 20, 30, 40, 50, 60, 70, 80, 90, 100]\n"
          ]
        }
      ]
    },
    {
      "cell_type": "markdown",
      "metadata": {
        "id": "Q648O9FgYSJ8"
      },
      "source": [
        "Calcular promedio de edades.\n",
        "\n",
        "Dada esa lista vacía, agregar las 5 edades y despues calcular el promedio."
      ]
    },
    {
      "cell_type": "code",
      "metadata": {
        "colab": {
          "base_uri": "https://localhost:8080/"
        },
        "id": "BSlVuROUYWdr",
        "outputId": "3949bf43-9519-466e-dbf4-bb7c76b47a59"
      },
      "source": [
        "suma=0\n",
        "edades=[0 for x in range(5)]\n",
        "for x in range(5):\n",
        "    edades[x]=int(input(\"Dame una edad: \"))\n",
        "    suma=suma+edades[x]\n",
        "print(edades)\n",
        "print(\"promedio: \", suma/5) "
      ],
      "execution_count": null,
      "outputs": [
        {
          "output_type": "stream",
          "name": "stdout",
          "text": [
            "Dame una edad: 17\n",
            "Dame una edad: 19\n",
            "Dame una edad: 45\n",
            "Dame una edad: 34\n",
            "Dame una edad: 65\n",
            "[17, 19, 45, 34, 65]\n",
            "promedio:  36.0\n"
          ]
        }
      ]
    },
    {
      "cell_type": "code",
      "metadata": {
        "colab": {
          "base_uri": "https://localhost:8080/"
        },
        "id": "LCuZFExDdwP2",
        "outputId": "4ec8ce8b-4468-4a3d-b0f8-1cb1f483ceee"
      },
      "source": [
        "import random\n",
        "print(random.random())\n",
        "print(random.uniform(5,11))\n",
        "val = round(random.uniform(5,11) , 2)\n",
        "print(val)\n",
        "print(\"----------------------------------------\")\n",
        "valores = [round(random.uniform(5,11),2) for x in range(20)]\n",
        "print(valores)"
      ],
      "execution_count": null,
      "outputs": [
        {
          "output_type": "stream",
          "name": "stdout",
          "text": [
            "0.41717916028033486\n",
            "8.136949230087065\n",
            "8.43\n",
            "----------------------------------------\n",
            "[10.79, 6.08, 9.74, 5.97, 9.48, 8.92, 8.66, 8.34, 6.75, 7.89, 6.27, 10.82, 6.68, 10.52, 6.26, 9.94, 7.08, 5.73, 10.03, 6.76]\n",
            "El número menor de la lista es: 5.32\n",
            "El número mayor de la lista es: 10.95\n"
          ]
        }
      ]
    },
    {
      "cell_type": "markdown",
      "metadata": {
        "id": "LGl0ina4ebQn"
      },
      "source": [
        " 1. identificar cual de los numeros aleatorios es el menor.\n",
        " 2. Cúal es el valor más grande de la lista. \n",
        " 3. Se tiene que decir el promedio de los valores"
      ]
    },
    {
      "cell_type": "markdown",
      "metadata": {
        "id": "LK9Iplvp6DMk"
      },
      "source": [
        "#Una estructura de control haz-mientras.\n",
        " nos permite ejecutar repetidamnete mientras una condición se siga cumpliendo.\n",
        "\n",
        "##Sintaxis\n",
        "\n",
        "    while <condicion>: \n",
        "\n",
        "         <Bloque de sentencias a ejecutar rapidamente>\n",
        "    <Siguiente sentencia posterior a while>    "
      ]
    },
    {
      "cell_type": "markdown",
      "metadata": {
        "id": "5MwLLT8t7E7c"
      },
      "source": [
        "La diferencia principal en comparación con la estructura FOR es que con WHILE no conoces el número de ciclos a ejecutar, en for si se conoce.\n",
        "\n",
        "como ejemplo iniciemos con el siguiente enunciado.\n",
        "\n",
        "Hacer un programa que solicite un valor entero positivo y calcule repetidamente la mitad y se reasigne a la misma variable. El ciclo debe detener cuando el resultado sea menor que 1.\n",
        "\n",
        "Mostrar en pantalla el resultado de cada calculo y al final el número de iteraciones que realizo"
      ]
    },
    {
      "cell_type": "code",
      "metadata": {
        "colab": {
          "base_uri": "https://localhost:8080/"
        },
        "id": "A-Arf0Gu6CLD",
        "outputId": "d44ffb8c-47cb-4a0c-d37f-10d6a5154300"
      },
      "source": [
        "valor = int(input(\"Introduce un numero entero positivo:\"))\n",
        "contador = 0 \n",
        "if valor > 0:\n",
        "    while valor > 1.0 :\n",
        "        valor = valor/2\n",
        "        print(round(valor,2))\n",
        "        contador += 1\n",
        "else:\n",
        "    print(\"El numero es negativo, intenta de nuevo\")   \n",
        "print(\"Total de interaciones\", contador)         "
      ],
      "execution_count": 2,
      "outputs": [
        {
          "output_type": "stream",
          "name": "stdout",
          "text": [
            "Introduce un numero entero positivo:4\n",
            "2.0\n",
            "1.0\n",
            "Total de interaciones 2\n"
          ]
        }
      ]
    },
    {
      "cell_type": "code",
      "metadata": {
        "colab": {
          "base_uri": "https://localhost:8080/"
        },
        "id": "lfZOUZUK8sBk",
        "outputId": "175e8c4f-1177-4dbb-f0fa-acaa84809e22"
      },
      "source": [
        "valor = int(input(\"Dame un valor entero:\"))\n",
        "\n",
        "while valor !=0:\n",
        "    print(valor)\n",
        "    valor = int(input(\"Dame un valor entero:\"))\n",
        "print(\"Fin del programa\")    "
      ],
      "execution_count": 6,
      "outputs": [
        {
          "output_type": "stream",
          "name": "stdout",
          "text": [
            "Dame un valor entero:2\n",
            "2\n",
            "Dame un valor entero:0\n",
            "Fin del programa\n"
          ]
        }
      ]
    },
    {
      "cell_type": "code",
      "metadata": {
        "id": "ZGge02dZ9Qyl"
      },
      "source": [
        "#Resultado infinito porque valor no lo estamos recalculando \n",
        "valor = int(input(\"Dame un valor entero:\"))\n",
        "while valor != 0:\n",
        "    print(valor)\n",
        "    print(\"Otras cosas\")\n",
        "print(\"Fin del programa\")"
      ],
      "execution_count": null,
      "outputs": []
    },
    {
      "cell_type": "markdown",
      "metadata": {
        "id": "E6iupYke_qwW"
      },
      "source": [
        "Escribe un programa que permita generar la tabla de multiplicar de un numero positivo N, empezando desde 1.\n",
        "\n",
        "Si el usuario escribe un numero incorrecto, el programa no se jecuta. En cambio se pregunta de nuevo por la info hasta que el dato ingrasado sea el correcto."
      ]
    },
    {
      "cell_type": "code",
      "metadata": {
        "colab": {
          "base_uri": "https://localhost:8080/"
        },
        "id": "fZysfsFk_psR",
        "outputId": "3f7e2abd-39d3-4c13-ca25-7b5c4320ec83"
      },
      "source": [
        "n = int(input(\"Ingresa un número entero positivo:\"))\n",
        "\n",
        "if n > 0: \n",
        "    print(\"Es correcto\")\n",
        "    for i in range (10):\n",
        "        print(n, \"por\", i+1, \"es igual a:\", n*(i+1))\n",
        "else: \n",
        "    print(\"El número ingresado no es correcto\")    "
      ],
      "execution_count": 7,
      "outputs": [
        {
          "output_type": "stream",
          "name": "stdout",
          "text": [
            "Ingresa un número entero positivo:2\n",
            "Es correcto\n",
            "2 por 1 es igual a: 2\n",
            "2 por 2 es igual a: 4\n",
            "2 por 3 es igual a: 6\n",
            "2 por 4 es igual a: 8\n",
            "2 por 5 es igual a: 10\n",
            "2 por 6 es igual a: 12\n",
            "2 por 7 es igual a: 14\n",
            "2 por 8 es igual a: 16\n",
            "2 por 9 es igual a: 18\n",
            "2 por 10 es igual a: 20\n"
          ]
        }
      ]
    },
    {
      "cell_type": "code",
      "metadata": {
        "colab": {
          "base_uri": "https://localhost:8080/"
        },
        "id": "1I4BdhaKBl79",
        "outputId": "9a7ad3f4-fd33-454b-eec0-c83af9dfeceb"
      },
      "source": [
        "#Lo mismo que el ejemplo de arriba, pero cambiandole\n",
        "n = int(input(\"Ingresa un número entero positivo:\"))\n",
        "\n",
        "if n > 0: \n",
        "    print(\"Es correcto\")\n",
        "    for i in range (1,11):\n",
        "        print(n, \"por\", i, \"es igual a:\", n*i)\n",
        "else: \n",
        "    print(\"El número ingresado no es correcto\")  "
      ],
      "execution_count": 8,
      "outputs": [
        {
          "output_type": "stream",
          "name": "stdout",
          "text": [
            "Ingresa un número entero positivo:2\n",
            "Es correcto\n",
            "2 por 1 es igual a: 2\n",
            "2 por 2 es igual a: 4\n",
            "2 por 3 es igual a: 6\n",
            "2 por 4 es igual a: 8\n",
            "2 por 5 es igual a: 10\n",
            "2 por 6 es igual a: 12\n",
            "2 por 7 es igual a: 14\n",
            "2 por 8 es igual a: 16\n",
            "2 por 9 es igual a: 18\n",
            "2 por 10 es igual a: 20\n"
          ]
        }
      ]
    },
    {
      "cell_type": "code",
      "metadata": {
        "colab": {
          "base_uri": "https://localhost:8080/"
        },
        "id": "hv6gXjBDCGX4",
        "outputId": "dd642fe9-1d6f-4413-a5d0-0fb3a449e25e"
      },
      "source": [
        "comprobar = True\n",
        "\n",
        "while comprobar == True: \n",
        "\n",
        "    n = int(input(\"Ingresa un número entero positivo:\"))\n",
        "\n",
        "    if n > 0: \n",
        "   \n",
        "        for i in range (1,11):\n",
        "            print(n, \"por\", i, \"es igual a:\", n*i)\n",
        "    comprobar = False     \n",
        "else: \n",
        "    print(\"El número ingresado no es correcto\")    "
      ],
      "execution_count": 18,
      "outputs": [
        {
          "output_type": "stream",
          "name": "stdout",
          "text": [
            "Ingresa un número entero positivo:4\n",
            "4 por 1 es igual a: 4\n",
            "4 por 2 es igual a: 8\n",
            "4 por 3 es igual a: 12\n",
            "4 por 4 es igual a: 16\n",
            "4 por 5 es igual a: 20\n",
            "4 por 6 es igual a: 24\n",
            "4 por 7 es igual a: 28\n",
            "4 por 8 es igual a: 32\n",
            "4 por 9 es igual a: 36\n",
            "4 por 10 es igual a: 40\n",
            "El número ingresado no es correcto\n"
          ]
        }
      ]
    },
    {
      "cell_type": "code",
      "metadata": {
        "colab": {
          "base_uri": "https://localhost:8080/"
        },
        "id": "N_vpjID-HR1A",
        "outputId": "87bc4586-e6b0-44d0-d754-a703a67807d4"
      },
      "source": [
        "comprobar = True\n",
        "\n",
        "while comprobar == True: \n",
        "\n",
        "    n = int(input(\"Ingresa un número entero positivo:\"))\n",
        "\n",
        "    if n > 0: \n",
        "        i=1 #Se inicia en el valor de 1\n",
        "        while i<11:\n",
        "            print(n,\"por\", i, \"es igual a:\", n*i)\n",
        "            i += 1 #i va a ser igual a la misma variable + 1\n",
        "            comprobar = False\n",
        "      \n",
        "    else: \n",
        "        print(\"El número ingresado no es correcto, intente de nuevo\")    "
      ],
      "execution_count": 25,
      "outputs": [
        {
          "output_type": "stream",
          "name": "stdout",
          "text": [
            "Ingresa un número entero positivo:-1\n",
            "El número ingresado no es correcto, intente de nuevo\n",
            "Ingresa un número entero positivo:5\n",
            "5 por 1 es igual a: 5\n",
            "5 por 2 es igual a: 10\n",
            "5 por 3 es igual a: 15\n",
            "5 por 4 es igual a: 20\n",
            "5 por 5 es igual a: 25\n",
            "5 por 6 es igual a: 30\n",
            "5 por 7 es igual a: 35\n",
            "5 por 8 es igual a: 40\n",
            "5 por 9 es igual a: 45\n",
            "5 por 10 es igual a: 50\n"
          ]
        }
      ]
    },
    {
      "cell_type": "markdown",
      "metadata": {
        "id": "4lYTvVNJKZEz"
      },
      "source": [
        "Escribe un programa que al recibir como dato un numero positivo N, calcule el resultado de la siguiente serie.\n",
        "\n",
        "1+(1/2)+(1/3)+(1/4)......+(1/n)\n",
        "\n",
        "Si el usuario escribe un número incorrecto, el programa no se ejecuta. En cambio se pregunta de nuevo por la info hasta que el dato ingrasado sea el correcto."
      ]
    },
    {
      "cell_type": "code",
      "metadata": {
        "colab": {
          "base_uri": "https://localhost:8080/"
        },
        "id": "7fZidF0YKh9h",
        "outputId": "2dccb698-2402-445b-bdcc-da15139564e9"
      },
      "source": [
        "n = int(input(\"Ingresa un numero entero positivo:\"))\n",
        "if n>0:\n",
        "    resultado = 0\n",
        "    for i in range (1, n+1):\n",
        "        resultado += (1/i)\n",
        "        print(\"el resultado de la serie es:\", resultado)\n",
        "else:\n",
        "    print(\"El número ungresado no es correcto, intente de nuevo\")        \n"
      ],
      "execution_count": 28,
      "outputs": [
        {
          "output_type": "stream",
          "name": "stdout",
          "text": [
            "Ingresa un numero entero positivo:4\n",
            "el resultado de la serie es: 1.0\n",
            "el resultado de la serie es: 1.5\n",
            "el resultado de la serie es: 1.8333333333333333\n",
            "el resultado de la serie es: 2.083333333333333\n"
          ]
        }
      ]
    },
    {
      "cell_type": "code",
      "metadata": {
        "colab": {
          "base_uri": "https://localhost:8080/"
        },
        "id": "rkJi4jIdMXB3",
        "outputId": "3f6e5883-c8d6-4e26-a1be-5e199410909b"
      },
      "source": [
        "comprobar = True\n",
        "while comprobar == True:\n",
        "    n = int(input(\"Ingresa un numero entero positivo:\"))\n",
        "    if n>0:\n",
        "        comprobar = False\n",
        "        resultado = 0\n",
        "        for i in range (1, n+1):\n",
        "            resultado += (1/i)\n",
        "        print(\"el resultado de la serie es:\", resultado)\n",
        "    else:\n",
        "        print(\"El número ungresado no es correcto, intente de nuevo\")      "
      ],
      "execution_count": 34,
      "outputs": [
        {
          "output_type": "stream",
          "name": "stdout",
          "text": [
            "Ingresa un numero entero positivo:-6\n",
            "El número ungresado no es correcto, intente de nuevo\n",
            "Ingresa un numero entero positivo:2\n",
            "el resultado de la serie es: 1.5\n"
          ]
        }
      ]
    }
  ]
}